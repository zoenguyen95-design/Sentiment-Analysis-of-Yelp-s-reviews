{
 "cells": [
  {
   "cell_type": "markdown",
   "id": "86c3e900",
   "metadata": {},
   "source": [
    "### Importing libraries\n"
   ]
  },
  {
   "cell_type": "code",
   "execution_count": 1,
   "id": "7835e467",
   "metadata": {},
   "outputs": [],
   "source": [
    "import pandas as pd\n",
    "import numpy as np\n",
    "import matplotlib.pyplot as plt\n",
    "import seaborn as sns\n",
    "import nltk\n",
    "from nltk.corpus import stopwords\n",
    "import string\n",
    "import math\n",
    "from sklearn.feature_extraction.text import CountVectorizer\n",
    "from sklearn.model_selection import train_test_split, cross_val_score\n",
    "from sklearn.metrics import classification_report\n",
    "from sklearn.metrics import confusion_matrix, accuracy_score, roc_auc_score, roc_curve\n",
    "from sklearn.model_selection import GridSearchCV\n",
    "%matplotlib inline"
   ]
  },
  {
   "cell_type": "markdown",
   "id": "d90dab21",
   "metadata": {},
   "source": [
    "### Data Preperation\n"
   ]
  },
  {
   "cell_type": "code",
   "execution_count": 2,
   "id": "1aa80544",
   "metadata": {},
   "outputs": [],
   "source": [
    "#Loading csv dataset \n",
    "def load_yelp_review():\n",
    "  DATA_PATH = \"./yelp_reviews.csv\"\n",
    "  df_review = pd.read_csv(\"yelp_reviews.csv\", index_col=0)\n",
    "  return df_review\n",
    "df_review = load_yelp_review()"
   ]
  },
  {
   "cell_type": "code",
   "execution_count": 3,
   "id": "309949dd",
   "metadata": {},
   "outputs": [],
   "source": [
    "data = df_review"
   ]
  },
  {
   "cell_type": "markdown",
   "id": "57f386be",
   "metadata": {},
   "source": [
    "\n",
    "Dataset for this analysis is the Yelp's Reviews Dataset from was downloaded from Kaggle (https://www.kaggle.com/code/omkarsabnis/sentiment-analysis-on-the-yelp-reviews-dataset/data).\n",
    "This dataset contains 200,000 sentences \n",
    "\n",
    "\n",
    "The following are the description of features we have\n",
    "- **review_id**: ID for published review\n",
    "- **user_id**: ID of unique user \n",
    "- **business_id**: ID of unique business \n",
    "- **stars**: Stars given by the user (*)\n",
    "- **useful**: The number of useful votes the review received\n",
    "- **funny**: The number of funny votes the review received\n",
    "- **cool**: The number of cool votes the review received\n",
    "- **text**: Text review given by user\n",
    "- **date**: Date of review was posted\n",
    " \n",
    "(*) On a scale of 1 to 5, 1 is totaly dissatisfied and 5 is totaly satisfied\n",
    "\n"
   ]
  },
  {
   "cell_type": "code",
   "execution_count": 4,
   "id": "ab306147",
   "metadata": {},
   "outputs": [
    {
     "name": "stdout",
     "output_type": "stream",
     "text": [
      "Shape of the dataset:\n",
      "(200000, 9)\n",
      "Column names:\n",
      "Index(['review_id', 'user_id', 'business_id', 'stars', 'useful', 'funny',\n",
      "       'cool', 'text', 'date'],\n",
      "      dtype='object')\n",
      "Datatype of each column:\n",
      "review_id      object\n",
      "user_id        object\n",
      "business_id    object\n",
      "stars           int64\n",
      "useful          int64\n",
      "funny           int64\n",
      "cool            int64\n",
      "text           object\n",
      "date           object\n",
      "dtype: object\n",
      "Few dataset entries:\n",
      "                review_id                 user_id             business_id  \\\n",
      "0  xQY8N_XvtGbearJ5X4QryQ  OwjRMXRC0KyPrIlcjaXeFQ  -MhfebM0QIsKt87iDN-FNw   \n",
      "1  UmFMZ8PyXZTY2QcwzsfQYA  nIJD_7ZXHq-FX8byPMOkMQ  lbrU8StCq3yDfr-QMnGrmQ   \n",
      "2  LG2ZaYiOgpr2DK_90pYjNw  V34qejxNsCbcgD8C0HVk-Q  HQl28KMwrEKHqhFrrDqVNQ   \n",
      "3  i6g_oA9Yf9Y31qt0wibXpw  ofKDkJKXSKZXu5xJNGiiBQ  5JxlZaqCnk1MnbgRirs40Q   \n",
      "4  6TdNDKywdbjoTkizeMce8A  UgMW8bLE0QMJDCkQ1Ax5Mg  IS4cv902ykd8wj1TR0N3-A   \n",
      "\n",
      "   stars  useful  funny  cool  \\\n",
      "0      2       5      0     0   \n",
      "1      1       1      1     0   \n",
      "2      5       1      0     0   \n",
      "3      1       0      0     0   \n",
      "4      4       0      0     0   \n",
      "\n",
      "                                                text                 date  \n",
      "0  As someone who has worked with many museums, I...  2015-04-15 05:21:16  \n",
      "1  I am actually horrified this place is still in...  2013-12-07 03:16:52  \n",
      "2  I love Deagan's. I do. I really do. The atmosp...  2015-12-05 03:18:11  \n",
      "3  Dismal, lukewarm, defrosted-tasting \"TexMex\" g...  2011-05-27 05:30:52  \n",
      "4  Oh happy day, finally have a Canes near my cas...  2017-01-14 21:56:57  \n"
     ]
    },
    {
     "data": {
      "text/html": [
       "<div>\n",
       "<style scoped>\n",
       "    .dataframe tbody tr th:only-of-type {\n",
       "        vertical-align: middle;\n",
       "    }\n",
       "\n",
       "    .dataframe tbody tr th {\n",
       "        vertical-align: top;\n",
       "    }\n",
       "\n",
       "    .dataframe thead th {\n",
       "        text-align: right;\n",
       "    }\n",
       "</style>\n",
       "<table border=\"1\" class=\"dataframe\">\n",
       "  <thead>\n",
       "    <tr style=\"text-align: right;\">\n",
       "      <th></th>\n",
       "      <th>review_id</th>\n",
       "      <th>user_id</th>\n",
       "      <th>business_id</th>\n",
       "      <th>stars</th>\n",
       "      <th>useful</th>\n",
       "      <th>funny</th>\n",
       "      <th>cool</th>\n",
       "      <th>text</th>\n",
       "      <th>date</th>\n",
       "    </tr>\n",
       "  </thead>\n",
       "  <tbody>\n",
       "    <tr>\n",
       "      <th>count</th>\n",
       "      <td>200000</td>\n",
       "      <td>200000</td>\n",
       "      <td>200000</td>\n",
       "      <td>200000.000000</td>\n",
       "      <td>200000.000000</td>\n",
       "      <td>200000.000000</td>\n",
       "      <td>200000.000000</td>\n",
       "      <td>200000</td>\n",
       "      <td>200000</td>\n",
       "    </tr>\n",
       "    <tr>\n",
       "      <th>unique</th>\n",
       "      <td>200000</td>\n",
       "      <td>145489</td>\n",
       "      <td>15736</td>\n",
       "      <td>NaN</td>\n",
       "      <td>NaN</td>\n",
       "      <td>NaN</td>\n",
       "      <td>NaN</td>\n",
       "      <td>199825</td>\n",
       "      <td>199731</td>\n",
       "    </tr>\n",
       "    <tr>\n",
       "      <th>top</th>\n",
       "      <td>xQY8N_XvtGbearJ5X4QryQ</td>\n",
       "      <td>CxDOIDnH8gp9KXzpBHJYXw</td>\n",
       "      <td>rcaPajgKOJC2vo_l3xa42A</td>\n",
       "      <td>NaN</td>\n",
       "      <td>NaN</td>\n",
       "      <td>NaN</td>\n",
       "      <td>NaN</td>\n",
       "      <td>Finding the Modern Yoga studio has enhanced my...</td>\n",
       "      <td>2017-07-02 20:11:42</td>\n",
       "    </tr>\n",
       "    <tr>\n",
       "      <th>freq</th>\n",
       "      <td>1</td>\n",
       "      <td>123</td>\n",
       "      <td>1325</td>\n",
       "      <td>NaN</td>\n",
       "      <td>NaN</td>\n",
       "      <td>NaN</td>\n",
       "      <td>NaN</td>\n",
       "      <td>3</td>\n",
       "      <td>2</td>\n",
       "    </tr>\n",
       "    <tr>\n",
       "      <th>mean</th>\n",
       "      <td>NaN</td>\n",
       "      <td>NaN</td>\n",
       "      <td>NaN</td>\n",
       "      <td>3.750115</td>\n",
       "      <td>1.093470</td>\n",
       "      <td>0.370110</td>\n",
       "      <td>0.447525</td>\n",
       "      <td>NaN</td>\n",
       "      <td>NaN</td>\n",
       "    </tr>\n",
       "    <tr>\n",
       "      <th>std</th>\n",
       "      <td>NaN</td>\n",
       "      <td>NaN</td>\n",
       "      <td>NaN</td>\n",
       "      <td>1.435254</td>\n",
       "      <td>2.307676</td>\n",
       "      <td>1.315985</td>\n",
       "      <td>1.396118</td>\n",
       "      <td>NaN</td>\n",
       "      <td>NaN</td>\n",
       "    </tr>\n",
       "    <tr>\n",
       "      <th>min</th>\n",
       "      <td>NaN</td>\n",
       "      <td>NaN</td>\n",
       "      <td>NaN</td>\n",
       "      <td>1.000000</td>\n",
       "      <td>0.000000</td>\n",
       "      <td>0.000000</td>\n",
       "      <td>0.000000</td>\n",
       "      <td>NaN</td>\n",
       "      <td>NaN</td>\n",
       "    </tr>\n",
       "    <tr>\n",
       "      <th>25%</th>\n",
       "      <td>NaN</td>\n",
       "      <td>NaN</td>\n",
       "      <td>NaN</td>\n",
       "      <td>3.000000</td>\n",
       "      <td>0.000000</td>\n",
       "      <td>0.000000</td>\n",
       "      <td>0.000000</td>\n",
       "      <td>NaN</td>\n",
       "      <td>NaN</td>\n",
       "    </tr>\n",
       "    <tr>\n",
       "      <th>50%</th>\n",
       "      <td>NaN</td>\n",
       "      <td>NaN</td>\n",
       "      <td>NaN</td>\n",
       "      <td>4.000000</td>\n",
       "      <td>0.000000</td>\n",
       "      <td>0.000000</td>\n",
       "      <td>0.000000</td>\n",
       "      <td>NaN</td>\n",
       "      <td>NaN</td>\n",
       "    </tr>\n",
       "    <tr>\n",
       "      <th>75%</th>\n",
       "      <td>NaN</td>\n",
       "      <td>NaN</td>\n",
       "      <td>NaN</td>\n",
       "      <td>5.000000</td>\n",
       "      <td>1.000000</td>\n",
       "      <td>0.000000</td>\n",
       "      <td>0.000000</td>\n",
       "      <td>NaN</td>\n",
       "      <td>NaN</td>\n",
       "    </tr>\n",
       "    <tr>\n",
       "      <th>max</th>\n",
       "      <td>NaN</td>\n",
       "      <td>NaN</td>\n",
       "      <td>NaN</td>\n",
       "      <td>5.000000</td>\n",
       "      <td>98.000000</td>\n",
       "      <td>88.000000</td>\n",
       "      <td>93.000000</td>\n",
       "      <td>NaN</td>\n",
       "      <td>NaN</td>\n",
       "    </tr>\n",
       "  </tbody>\n",
       "</table>\n",
       "</div>"
      ],
      "text/plain": [
       "                     review_id                 user_id  \\\n",
       "count                   200000                  200000   \n",
       "unique                  200000                  145489   \n",
       "top     xQY8N_XvtGbearJ5X4QryQ  CxDOIDnH8gp9KXzpBHJYXw   \n",
       "freq                         1                     123   \n",
       "mean                       NaN                     NaN   \n",
       "std                        NaN                     NaN   \n",
       "min                        NaN                     NaN   \n",
       "25%                        NaN                     NaN   \n",
       "50%                        NaN                     NaN   \n",
       "75%                        NaN                     NaN   \n",
       "max                        NaN                     NaN   \n",
       "\n",
       "                   business_id          stars         useful          funny  \\\n",
       "count                   200000  200000.000000  200000.000000  200000.000000   \n",
       "unique                   15736            NaN            NaN            NaN   \n",
       "top     rcaPajgKOJC2vo_l3xa42A            NaN            NaN            NaN   \n",
       "freq                      1325            NaN            NaN            NaN   \n",
       "mean                       NaN       3.750115       1.093470       0.370110   \n",
       "std                        NaN       1.435254       2.307676       1.315985   \n",
       "min                        NaN       1.000000       0.000000       0.000000   \n",
       "25%                        NaN       3.000000       0.000000       0.000000   \n",
       "50%                        NaN       4.000000       0.000000       0.000000   \n",
       "75%                        NaN       5.000000       1.000000       0.000000   \n",
       "max                        NaN       5.000000      98.000000      88.000000   \n",
       "\n",
       "                 cool                                               text  \\\n",
       "count   200000.000000                                             200000   \n",
       "unique            NaN                                             199825   \n",
       "top               NaN  Finding the Modern Yoga studio has enhanced my...   \n",
       "freq              NaN                                                  3   \n",
       "mean         0.447525                                                NaN   \n",
       "std          1.396118                                                NaN   \n",
       "min          0.000000                                                NaN   \n",
       "25%          0.000000                                                NaN   \n",
       "50%          0.000000                                                NaN   \n",
       "75%          0.000000                                                NaN   \n",
       "max         93.000000                                                NaN   \n",
       "\n",
       "                       date  \n",
       "count                200000  \n",
       "unique               199731  \n",
       "top     2017-07-02 20:11:42  \n",
       "freq                      2  \n",
       "mean                    NaN  \n",
       "std                     NaN  \n",
       "min                     NaN  \n",
       "25%                     NaN  \n",
       "50%                     NaN  \n",
       "75%                     NaN  \n",
       "max                     NaN  "
      ]
     },
     "execution_count": 4,
     "metadata": {},
     "output_type": "execute_result"
    }
   ],
   "source": [
    "# Data observation\n",
    "print(\"Shape of the dataset:\")\n",
    "print(data.shape)\n",
    "print(\"Column names:\")\n",
    "print(data.columns)\n",
    "print(\"Datatype of each column:\")\n",
    "print(data.dtypes)\n",
    "print(\"Few dataset entries:\")\n",
    "print(data.head())\n",
    "data.describe(include='all')"
   ]
  },
  {
   "cell_type": "markdown",
   "id": "d64ca63d",
   "metadata": {},
   "source": [
    "There are around 200,000 data samples in the sentiment analysis dataset \n"
   ]
  },
  {
   "cell_type": "markdown",
   "id": "e60f3cd5",
   "metadata": {},
   "source": [
    "Create a new column named \"length\" to keep track how many characters each review has. Hence, we can get an insight on every Yelp's feedback"
   ]
  },
  {
   "cell_type": "code",
   "execution_count": 5,
   "id": "1b85adab",
   "metadata": {},
   "outputs": [
    {
     "data": {
      "text/html": [
       "<div>\n",
       "<style scoped>\n",
       "    .dataframe tbody tr th:only-of-type {\n",
       "        vertical-align: middle;\n",
       "    }\n",
       "\n",
       "    .dataframe tbody tr th {\n",
       "        vertical-align: top;\n",
       "    }\n",
       "\n",
       "    .dataframe thead th {\n",
       "        text-align: right;\n",
       "    }\n",
       "</style>\n",
       "<table border=\"1\" class=\"dataframe\">\n",
       "  <thead>\n",
       "    <tr style=\"text-align: right;\">\n",
       "      <th></th>\n",
       "      <th>review_id</th>\n",
       "      <th>user_id</th>\n",
       "      <th>business_id</th>\n",
       "      <th>stars</th>\n",
       "      <th>useful</th>\n",
       "      <th>funny</th>\n",
       "      <th>cool</th>\n",
       "      <th>text</th>\n",
       "      <th>date</th>\n",
       "      <th>length</th>\n",
       "    </tr>\n",
       "  </thead>\n",
       "  <tbody>\n",
       "    <tr>\n",
       "      <th>0</th>\n",
       "      <td>xQY8N_XvtGbearJ5X4QryQ</td>\n",
       "      <td>OwjRMXRC0KyPrIlcjaXeFQ</td>\n",
       "      <td>-MhfebM0QIsKt87iDN-FNw</td>\n",
       "      <td>2</td>\n",
       "      <td>5</td>\n",
       "      <td>0</td>\n",
       "      <td>0</td>\n",
       "      <td>As someone who has worked with many museums, I...</td>\n",
       "      <td>2015-04-15 05:21:16</td>\n",
       "      <td>1373</td>\n",
       "    </tr>\n",
       "    <tr>\n",
       "      <th>1</th>\n",
       "      <td>UmFMZ8PyXZTY2QcwzsfQYA</td>\n",
       "      <td>nIJD_7ZXHq-FX8byPMOkMQ</td>\n",
       "      <td>lbrU8StCq3yDfr-QMnGrmQ</td>\n",
       "      <td>1</td>\n",
       "      <td>1</td>\n",
       "      <td>1</td>\n",
       "      <td>0</td>\n",
       "      <td>I am actually horrified this place is still in...</td>\n",
       "      <td>2013-12-07 03:16:52</td>\n",
       "      <td>1407</td>\n",
       "    </tr>\n",
       "    <tr>\n",
       "      <th>2</th>\n",
       "      <td>LG2ZaYiOgpr2DK_90pYjNw</td>\n",
       "      <td>V34qejxNsCbcgD8C0HVk-Q</td>\n",
       "      <td>HQl28KMwrEKHqhFrrDqVNQ</td>\n",
       "      <td>5</td>\n",
       "      <td>1</td>\n",
       "      <td>0</td>\n",
       "      <td>0</td>\n",
       "      <td>I love Deagan's. I do. I really do. The atmosp...</td>\n",
       "      <td>2015-12-05 03:18:11</td>\n",
       "      <td>431</td>\n",
       "    </tr>\n",
       "    <tr>\n",
       "      <th>3</th>\n",
       "      <td>i6g_oA9Yf9Y31qt0wibXpw</td>\n",
       "      <td>ofKDkJKXSKZXu5xJNGiiBQ</td>\n",
       "      <td>5JxlZaqCnk1MnbgRirs40Q</td>\n",
       "      <td>1</td>\n",
       "      <td>0</td>\n",
       "      <td>0</td>\n",
       "      <td>0</td>\n",
       "      <td>Dismal, lukewarm, defrosted-tasting \"TexMex\" g...</td>\n",
       "      <td>2011-05-27 05:30:52</td>\n",
       "      <td>401</td>\n",
       "    </tr>\n",
       "    <tr>\n",
       "      <th>4</th>\n",
       "      <td>6TdNDKywdbjoTkizeMce8A</td>\n",
       "      <td>UgMW8bLE0QMJDCkQ1Ax5Mg</td>\n",
       "      <td>IS4cv902ykd8wj1TR0N3-A</td>\n",
       "      <td>4</td>\n",
       "      <td>0</td>\n",
       "      <td>0</td>\n",
       "      <td>0</td>\n",
       "      <td>Oh happy day, finally have a Canes near my cas...</td>\n",
       "      <td>2017-01-14 21:56:57</td>\n",
       "      <td>841</td>\n",
       "    </tr>\n",
       "  </tbody>\n",
       "</table>\n",
       "</div>"
      ],
      "text/plain": [
       "                review_id                 user_id             business_id  \\\n",
       "0  xQY8N_XvtGbearJ5X4QryQ  OwjRMXRC0KyPrIlcjaXeFQ  -MhfebM0QIsKt87iDN-FNw   \n",
       "1  UmFMZ8PyXZTY2QcwzsfQYA  nIJD_7ZXHq-FX8byPMOkMQ  lbrU8StCq3yDfr-QMnGrmQ   \n",
       "2  LG2ZaYiOgpr2DK_90pYjNw  V34qejxNsCbcgD8C0HVk-Q  HQl28KMwrEKHqhFrrDqVNQ   \n",
       "3  i6g_oA9Yf9Y31qt0wibXpw  ofKDkJKXSKZXu5xJNGiiBQ  5JxlZaqCnk1MnbgRirs40Q   \n",
       "4  6TdNDKywdbjoTkizeMce8A  UgMW8bLE0QMJDCkQ1Ax5Mg  IS4cv902ykd8wj1TR0N3-A   \n",
       "\n",
       "   stars  useful  funny  cool  \\\n",
       "0      2       5      0     0   \n",
       "1      1       1      1     0   \n",
       "2      5       1      0     0   \n",
       "3      1       0      0     0   \n",
       "4      4       0      0     0   \n",
       "\n",
       "                                                text                 date  \\\n",
       "0  As someone who has worked with many museums, I...  2015-04-15 05:21:16   \n",
       "1  I am actually horrified this place is still in...  2013-12-07 03:16:52   \n",
       "2  I love Deagan's. I do. I really do. The atmosp...  2015-12-05 03:18:11   \n",
       "3  Dismal, lukewarm, defrosted-tasting \"TexMex\" g...  2011-05-27 05:30:52   \n",
       "4  Oh happy day, finally have a Canes near my cas...  2017-01-14 21:56:57   \n",
       "\n",
       "   length  \n",
       "0    1373  \n",
       "1    1407  \n",
       "2     431  \n",
       "3     401  \n",
       "4     841  "
      ]
     },
     "execution_count": 5,
     "metadata": {},
     "output_type": "execute_result"
    }
   ],
   "source": [
    "data['length'] = data['text'].apply(len)\n",
    "data.head()"
   ]
  },
  {
   "cell_type": "code",
   "execution_count": 6,
   "id": "316fc6b9",
   "metadata": {},
   "outputs": [
    {
     "data": {
      "text/plain": [
       "(200000, 10)"
      ]
     },
     "execution_count": 6,
     "metadata": {},
     "output_type": "execute_result"
    }
   ],
   "source": [
    "data.shape"
   ]
  },
  {
   "cell_type": "markdown",
   "id": "8438326b",
   "metadata": {},
   "source": [
    "### Visualizing dataset\n",
    "1. Box-plot"
   ]
  },
  {
   "cell_type": "code",
   "execution_count": 7,
   "id": "81af1f98",
   "metadata": {},
   "outputs": [
    {
     "data": {
      "text/plain": [
       "<AxesSubplot:xlabel='stars', ylabel='length'>"
      ]
     },
     "execution_count": 7,
     "metadata": {},
     "output_type": "execute_result"
    },
    {
     "data": {
      "image/png": "[encoded data removed]",
      "text/plain": [
       "<Figure size 432x288 with 1 Axes>"
      ]
     },
     "metadata": {
      "needs_background": "light"
     },
     "output_type": "display_data"
    }
   ],
   "source": [
    "#Box-plot graph of each star rating's text length.\n",
    "sns.boxplot(x='stars', y='length', data=df_review)"
   ]
  },
  {
   "cell_type": "markdown",
   "id": "44f50a4f",
   "metadata": {},
   "source": [
    "The 1-star and 2-star and 3-star ratings appear to contain significantly longer content based on the plot, however there are numerous anomalies that can be seen as points above the boxes. Meanwhile, 5-star rating has the shortest length"
   ]
  },
  {
   "cell_type": "markdown",
   "id": "f4e9176f",
   "metadata": {},
   "source": [
    "2. Bar graph"
   ]
  },
  {
   "cell_type": "code",
   "execution_count": 8,
   "id": "e2ed330e",
   "metadata": {},
   "outputs": [
    {
     "data": {
      "image/png": "[encoded data removed]",
      "text/plain": [
       "<Figure size 432x288 with 1 Axes>"
      ]
     },
     "metadata": {
      "needs_background": "light"
     },
     "output_type": "display_data"
    }
   ],
   "source": [
    "#Bar graph shows customer's rating distribution\n",
    "ax = sns.barplot(data=df_review, x='stars', y='stars', estimator=lambda x: len(x) / len(df_review) * 100)\n",
    "ax.set(ylabel=\"Percent\")\n",
    "plt.title('Distribution of Customer Rating')\n",
    "plt.show()"
   ]
  },
  {
   "cell_type": "markdown",
   "id": "004897d2",
   "metadata": {},
   "source": [
    "The majority of guests were pleased with the eateries, with almost 70% giving it a rating of 4 or 5. The rating has remained very consistent at 4 throughout time."
   ]
  },
  {
   "cell_type": "code",
   "execution_count": 9,
   "id": "c35cf038",
   "metadata": {},
   "outputs": [
    {
     "name": "stdout",
     "output_type": "stream",
     "text": [
      "Mean value of the review's stars:\n"
     ]
    },
    {
     "data": {
      "text/html": [
       "<div>\n",
       "<style scoped>\n",
       "    .dataframe tbody tr th:only-of-type {\n",
       "        vertical-align: middle;\n",
       "    }\n",
       "\n",
       "    .dataframe tbody tr th {\n",
       "        vertical-align: top;\n",
       "    }\n",
       "\n",
       "    .dataframe thead th {\n",
       "        text-align: right;\n",
       "    }\n",
       "</style>\n",
       "<table border=\"1\" class=\"dataframe\">\n",
       "  <thead>\n",
       "    <tr style=\"text-align: right;\">\n",
       "      <th></th>\n",
       "      <th>useful</th>\n",
       "      <th>funny</th>\n",
       "      <th>cool</th>\n",
       "      <th>length</th>\n",
       "    </tr>\n",
       "    <tr>\n",
       "      <th>stars</th>\n",
       "      <th></th>\n",
       "      <th></th>\n",
       "      <th></th>\n",
       "      <th></th>\n",
       "    </tr>\n",
       "  </thead>\n",
       "  <tbody>\n",
       "    <tr>\n",
       "      <th>1</th>\n",
       "      <td>1.626292</td>\n",
       "      <td>0.525556</td>\n",
       "      <td>0.206080</td>\n",
       "      <td>706.657453</td>\n",
       "    </tr>\n",
       "    <tr>\n",
       "      <th>2</th>\n",
       "      <td>1.307921</td>\n",
       "      <td>0.518696</td>\n",
       "      <td>0.311072</td>\n",
       "      <td>730.656869</td>\n",
       "    </tr>\n",
       "    <tr>\n",
       "      <th>3</th>\n",
       "      <td>1.077009</td>\n",
       "      <td>0.449377</td>\n",
       "      <td>0.476346</td>\n",
       "      <td>684.468103</td>\n",
       "    </tr>\n",
       "    <tr>\n",
       "      <th>4</th>\n",
       "      <td>1.098020</td>\n",
       "      <td>0.415390</td>\n",
       "      <td>0.639568</td>\n",
       "      <td>600.467605</td>\n",
       "    </tr>\n",
       "    <tr>\n",
       "      <th>5</th>\n",
       "      <td>0.888277</td>\n",
       "      <td>0.250068</td>\n",
       "      <td>0.442009</td>\n",
       "      <td>465.731113</td>\n",
       "    </tr>\n",
       "  </tbody>\n",
       "</table>\n",
       "</div>"
      ],
      "text/plain": [
       "         useful     funny      cool      length\n",
       "stars                                          \n",
       "1      1.626292  0.525556  0.206080  706.657453\n",
       "2      1.307921  0.518696  0.311072  730.656869\n",
       "3      1.077009  0.449377  0.476346  684.468103\n",
       "4      1.098020  0.415390  0.639568  600.467605\n",
       "5      0.888277  0.250068  0.442009  465.731113"
      ]
     },
     "execution_count": 9,
     "metadata": {},
     "output_type": "execute_result"
    }
   ],
   "source": [
    "#Mean and Correlation for features: cool, useful, funny\n",
    "stars = df_review.groupby('stars').mean()\n",
    "print('Mean value of the review\\'s stars:')\n",
    "stars\n",
    "\n"
   ]
  },
  {
   "cell_type": "code",
   "execution_count": 10,
   "id": "26c703ba",
   "metadata": {},
   "outputs": [
    {
     "name": "stdout",
     "output_type": "stream",
     "text": [
      "Correlation value of the review's stars:\n"
     ]
    },
    {
     "data": {
      "text/html": [
       "<div>\n",
       "<style scoped>\n",
       "    .dataframe tbody tr th:only-of-type {\n",
       "        vertical-align: middle;\n",
       "    }\n",
       "\n",
       "    .dataframe tbody tr th {\n",
       "        vertical-align: top;\n",
       "    }\n",
       "\n",
       "    .dataframe thead th {\n",
       "        text-align: right;\n",
       "    }\n",
       "</style>\n",
       "<table border=\"1\" class=\"dataframe\">\n",
       "  <thead>\n",
       "    <tr style=\"text-align: right;\">\n",
       "      <th></th>\n",
       "      <th>useful</th>\n",
       "      <th>funny</th>\n",
       "      <th>cool</th>\n",
       "      <th>length</th>\n",
       "    </tr>\n",
       "  </thead>\n",
       "  <tbody>\n",
       "    <tr>\n",
       "      <th>useful</th>\n",
       "      <td>1.000000</td>\n",
       "      <td>0.839733</td>\n",
       "      <td>-0.748369</td>\n",
       "      <td>0.750935</td>\n",
       "    </tr>\n",
       "    <tr>\n",
       "      <th>funny</th>\n",
       "      <td>0.839733</td>\n",
       "      <td>1.000000</td>\n",
       "      <td>-0.488887</td>\n",
       "      <td>0.979543</td>\n",
       "    </tr>\n",
       "    <tr>\n",
       "      <th>cool</th>\n",
       "      <td>-0.748369</td>\n",
       "      <td>-0.488887</td>\n",
       "      <td>1.000000</td>\n",
       "      <td>-0.479402</td>\n",
       "    </tr>\n",
       "    <tr>\n",
       "      <th>length</th>\n",
       "      <td>0.750935</td>\n",
       "      <td>0.979543</td>\n",
       "      <td>-0.479402</td>\n",
       "      <td>1.000000</td>\n",
       "    </tr>\n",
       "  </tbody>\n",
       "</table>\n",
       "</div>"
      ],
      "text/plain": [
       "          useful     funny      cool    length\n",
       "useful  1.000000  0.839733 -0.748369  0.750935\n",
       "funny   0.839733  1.000000 -0.488887  0.979543\n",
       "cool   -0.748369 -0.488887  1.000000 -0.479402\n",
       "length  0.750935  0.979543 -0.479402  1.000000"
      ]
     },
     "execution_count": 10,
     "metadata": {},
     "output_type": "execute_result"
    }
   ],
   "source": [
    "print('Correlation value of the review\\'s stars:')\n",
    "stars.corr()"
   ]
  },
  {
   "cell_type": "markdown",
   "id": "63c1a762",
   "metadata": {},
   "source": [
    "3. Heat map "
   ]
  },
  {
   "cell_type": "code",
   "execution_count": 11,
   "id": "bebd9ce1",
   "metadata": {},
   "outputs": [
    {
     "data": {
      "text/plain": [
       "Text(0.5, 1.0, 'Heat map of Correlations between features: cool, useful, funny, and length')"
      ]
     },
     "execution_count": 11,
     "metadata": {},
     "output_type": "execute_result"
    },
    {
     "data": {
      "image/png": "[encoded data removed]",
      "text/plain": [
       "<Figure size 432x288 with 2 Axes>"
      ]
     },
     "metadata": {
      "needs_background": "light"
     },
     "output_type": "display_data"
    }
   ],
   "source": [
    "sns.heatmap(data=stars.corr(), annot=True,cmap='Reds')\n",
    "plt.title(\"Heat map of Correlations between features: cool, useful, funny, and length\")"
   ]
  },
  {
   "cell_type": "markdown",
   "id": "88655b1c",
   "metadata": {},
   "source": [
    "According to the heat map, there is the strongest possitive correlation between *funny* and *length*, and *useful* also has strong correlated with *funny*. There is also a negative correlation relationship between *cool* and the other three features."
   ]
  },
  {
   "cell_type": "markdown",
   "id": "784d68df",
   "metadata": {},
   "source": []
  },
  {
   "cell_type": "markdown",
   "id": "839aeda9",
   "metadata": {},
   "source": [
    "### Data Processing\n",
    "\n",
    "When working with text-based data, it's best to keep the number of words and characters as low as possible so that your code doesn't run for hours. We want to execute this while still keeping the critical keywords, such as 'good' or 'awful,' which give us an indication of the reviewer's sentiments.\n",
    "\n",
    "**Stop words**, for instance 'the,' 'or,' and 'is,' aren't necessary. It's pointless to waste time and processing resources going through these stop words, so there are should be eliminate."
   ]
  },
  {
   "cell_type": "code",
   "execution_count": 12,
   "id": "e20bd189",
   "metadata": {},
   "outputs": [
    {
     "name": "stdout",
     "output_type": "stream",
     "text": [
      "['This', 'is', 'a', 'sample', 'sentence', ',', 'showing', 'off', 'the', 'stop', 'words', 'filtration', '.']\n",
      "['This', 'sample', 'sentence', ',', 'showing', 'stop', 'words', 'filtration', '.']\n"
     ]
    },
    {
     "name": "stderr",
     "output_type": "stream",
     "text": [
      "[nltk_data] Downloading package stopwords to\n",
      "[nltk_data]     C:\\Users\\ASUS\\AppData\\Roaming\\nltk_data...\n",
      "[nltk_data]   Package stopwords is already up-to-date!\n",
      "[nltk_data] Downloading package punkt to\n",
      "[nltk_data]     C:\\Users\\ASUS\\AppData\\Roaming\\nltk_data...\n",
      "[nltk_data]   Package punkt is already up-to-date!\n"
     ]
    }
   ],
   "source": [
    "import nltk\n",
    "nltk.download('stopwords')\n",
    "nltk.download('punkt')\n",
    "\n",
    "from nltk.corpus import stopwords\n",
    "from nltk.tokenize import word_tokenize\n",
    "\n",
    "\n",
    "example_sent = \"\"\"This is a sample sentence,\n",
    "                  showing off the stop words filtration.\"\"\"\n",
    "\n",
    "stop_words = set(stopwords.words('english'))\n",
    " \n",
    "word_tokens = word_tokenize(example_sent)\n",
    " \n",
    "filtered_sentence = [w for w in word_tokens if not w.lower() in stop_words]\n",
    " \n",
    "filtered_sentence = []\n",
    " \n",
    "for w in word_tokens:\n",
    "    if w not in stop_words:\n",
    "        filtered_sentence.append(w)\n",
    "\n",
    "print(word_tokens)\n",
    "print(filtered_sentence)"
   ]
  },
  {
   "cell_type": "code",
   "execution_count": 13,
   "id": "c951175c",
   "metadata": {},
   "outputs": [],
   "source": [
    "#Preparing for classification\n",
    "#df_class = df_review[(df_review['stars']==1) | (df_review['stars']==5)]\n",
    "#df_class.shape\n",
    "\n",
    "#putting them in seperate variable\n",
    "#x = df_class['text']\n",
    "#y = df_class['stars']\n",
    "#print(x.head())\n",
    "#print(y.head())\n"
   ]
  },
  {
   "cell_type": "code",
   "execution_count": 14,
   "id": "bd5bafaf",
   "metadata": {},
   "outputs": [],
   "source": [
    "# Data preprocess - score 4,5 to positive (1) and score 1,2 to negtive(0)\n",
    "def sentiment_assign(x):\n",
    "  if x ==3:\n",
    "    return None\n",
    "  return 1 if x > 2 else 0\n",
    "df_review['sentiment'] = df_review[\"stars\"].apply(sentiment_assign )\n"
   ]
  },
  {
   "cell_type": "code",
   "execution_count": 15,
   "id": "6e3cbe4a",
   "metadata": {},
   "outputs": [
    {
     "name": "stdout",
     "output_type": "stream",
     "text": [
      "1.0    133610\n",
      "0.0     44068\n",
      "Name: sentiment, dtype: int64\n"
     ]
    }
   ],
   "source": [
    "# Observe data, here we find out the data is not balance\n",
    "empty_text = (df_review['text'].isnull() \\\n",
    "            | df_review['sentiment'].isnull())\n",
    "df_review = df_review[~empty_text]\n",
    "print(df_review['sentiment'].value_counts())"
   ]
  },
  {
   "cell_type": "code",
   "execution_count": 16,
   "id": "10c170ef",
   "metadata": {},
   "outputs": [],
   "source": [
    "#Imbalence data preprocess - unsample data with 40,000 data for each sentiment level \n",
    "def sample_data(n):\n",
    "    return pd.concat([df_review[df_review['sentiment'] == i].head(n) for i in range(0,2)])\n",
    "df_resample = sample_data(40000)"
   ]
  },
  {
   "cell_type": "code",
   "execution_count": 17,
   "id": "508d7ea6",
   "metadata": {},
   "outputs": [],
   "source": [
    "#df_resample"
   ]
  },
  {
   "cell_type": "code",
   "execution_count": 18,
   "id": "b9496936",
   "metadata": {},
   "outputs": [
    {
     "name": "stdout",
     "output_type": "stream",
     "text": [
      "Requirement already satisfied: gensim in d:\\anaconda3\\lib\\site-packages (4.1.2)\n",
      "Requirement already satisfied: numpy>=1.17.0 in d:\\anaconda3\\lib\\site-packages (from gensim) (1.20.3)\n",
      "Requirement already satisfied: Cython==0.29.23 in d:\\anaconda3\\lib\\site-packages (from gensim) (0.29.23)\n",
      "Requirement already satisfied: scipy>=0.18.1 in d:\\anaconda3\\lib\\site-packages (from gensim) (1.7.1)\n",
      "Requirement already satisfied: smart-open>=1.8.1 in d:\\anaconda3\\lib\\site-packages (from gensim) (5.2.1)\n"
     ]
    }
   ],
   "source": [
    "!pip install gensim"
   ]
  },
  {
   "cell_type": "code",
   "execution_count": null,
   "id": "6526e42f",
   "metadata": {},
   "outputs": [
    {
     "name": "stdout",
     "output_type": "stream",
     "text": [
      "Finish Tokenize\n"
     ]
    }
   ],
   "source": [
    "#NLP pipeline\n",
    "\n",
    "#Tokenize\n",
    "from gensim.utils import simple_preprocess \n",
    "df_resample['prep'] = df_resample['text'].apply(simple_preprocess)\n",
    "print(\"Finish Tokenize\")\n",
    "\n",
    "#Stemming words and case lower\n",
    "from gensim.parsing.porter import PorterStemmer\n",
    "def stem(ws):\n",
    "  return [PorterStemmer().stem(w) for w in ws]\n",
    "\n",
    "df_resample['prep'] = df_resample['prep'].apply(stem)\n",
    "print(\"Finish Stem\")\n",
    "\n",
    "#join word list to sentence\n",
    "def toSentence(x):\n",
    "  return \" \".join(x)\n",
    "\n",
    "df_resample['clean'] = df_resample['prep'].apply(toSentence)"
   ]
  },
  {
   "cell_type": "code",
   "execution_count": null,
   "id": "02ee1c05",
   "metadata": {},
   "outputs": [],
   "source": [
    "#show top ten after data preprocessing\n",
    "df_resample['clean'].head(10)\n"
   ]
  },
  {
   "cell_type": "markdown",
   "id": "0cb4b455",
   "metadata": {},
   "source": [
    "### Split dataset into training and testing"
   ]
  },
  {
   "cell_type": "code",
   "execution_count": null,
   "id": "8682778e",
   "metadata": {},
   "outputs": [],
   "source": [
    "from sklearn.model_selection import train_test_split\n",
    "\n",
    "def split_train_test(data, test_size=0.2, shuffle_state = True):\n",
    "    FEATURES = ['clean']\n",
    "    X_train, X_test, Y_train, Y_test = train_test_split(\n",
    "                                                        data[FEATURES],\n",
    "                                                        data['sentiment'], \n",
    "                                                        shuffle = shuffle_state,\n",
    "                                                        test_size = test_size, \n",
    "                                                        random_state = 32)\n",
    "\n",
    "     \n",
    "    X_test, X_valid , Y_test, Y_valid = train_test_split(\n",
    "                                                    X_test,\n",
    "                                                    Y_test, \n",
    "                                                    shuffle = shuffle_state,\n",
    "                                                    test_size = test_size, \n",
    "                                                    random_state = 32)\n",
    "    print(\"Term frequency (training)\")\n",
    "    print(Y_train.value_counts())\n",
    "    print(\"Term frequency (testing)\")\n",
    "    print(Y_test.value_counts())\n",
    "    print(\"Term frequency (validation)\")\n",
    "    print(Y_valid.value_counts())\n",
    "    \n",
    "    \n",
    "    X_train = X_train.reset_index()\n",
    "    X_test = X_test.reset_index()\n",
    "    X_valid = X_valid.reset_index()\n",
    "    \n",
    "    Y_train = Y_train.to_frame()    \n",
    "    Y_train = Y_train.reset_index()\n",
    "    \n",
    "    Y_test = Y_test.to_frame()\n",
    "    Y_test = Y_test.reset_index()\n",
    "    \n",
    "    Y_valid = Y_valid.to_frame()\n",
    "    Y_valid = Y_valid.reset_index()\n",
    "  \n",
    "    \n",
    "    return X_train, X_test, Y_train, Y_test, X_valid, Y_valid\n",
    "\n",
    "# Call the train_test_split\n",
    "X_train, X_test, Y_train, Y_test, X_valid, Y_valid = split_train_test(df_resample)"
   ]
  },
  {
   "cell_type": "code",
   "execution_count": null,
   "id": "43bbaec4",
   "metadata": {},
   "outputs": [],
   "source": [
    "df_resample.clean"
   ]
  },
  {
   "cell_type": "markdown",
   "id": "58a007e3",
   "metadata": {},
   "source": [
    "### Vectorization\n",
    "The purpose is convert a review which in String type into a vector. Hence, we can use it to for modelling\n",
    "\n",
    "**TF-IDF**: It is a statistical method for analysing a collection or corpus. This method determines the significance of a word in a document. We utilised TF-IDF to transform text into numerical vector representations."
   ]
  },
  {
   "cell_type": "code",
   "execution_count": null,
   "id": "78c3f5b6",
   "metadata": {},
   "outputs": [],
   "source": [
    "#TF-IDF\n",
    "from sklearn.feature_extraction.text import TfidfVectorizer\n",
    "from nltk.corpus import words\n",
    "params = {\n",
    "          \"ngram_range\" : (1,3),\n",
    "          \"max_features\" : 30000,\n",
    "          \"stop_words\" :\"english\"\n",
    "}\n",
    "tfidf = TfidfVectorizer(**params)\n",
    "\n",
    "# print(X_train['stem_tokens'])\n",
    "train_tv = tfidf.fit_transform(X_train['clean'])\n",
    "test_tv = tfidf.transform(X_test['clean'])\n",
    "\n",
    "vocab = tfidf.get_feature_names()\n"
   ]
  },
  {
   "cell_type": "code",
   "execution_count": null,
   "id": "fa18d54c",
   "metadata": {},
   "outputs": [],
   "source": [
    "vocab"
   ]
  },
  {
   "cell_type": "markdown",
   "id": "dd466507",
   "metadata": {},
   "source": [
    "### Modelling"
   ]
  },
  {
   "cell_type": "markdown",
   "id": "913976f1",
   "metadata": {},
   "source": [
    "#### 1. Random Forest"
   ]
  },
  {
   "cell_type": "code",
   "execution_count": null,
   "id": "0097b250",
   "metadata": {},
   "outputs": [],
   "source": [
    "from sklearn.ensemble import RandomForestClassifier\n",
    "\n",
    "rnd_clf = RandomForestClassifier()\n",
    "rnd_clf.fit(train_tv,Y_train['sentiment'])\n",
    "Y_pred = rnd_clf.predict(test_tv)\n",
    "\n",
    "#Confusion Matrix\n",
    "print(\"Confusion Matrix for Random Forest Classifier:\")\n",
    "print(confusion_matrix(Y_test['sentiment'],Y_pred))\n",
    "\n",
    "#Accuracy score\n",
    "print(\"Score:\",accuracy_score(Y_test['sentiment'], Y_pred))\n",
    "\n",
    "#Clasification Report\n",
    "print(\"Classification Report:\",classification_report(Y_test['sentiment'],Y_pred))"
   ]
  },
  {
   "cell_type": "markdown",
   "id": "888fbac2",
   "metadata": {},
   "source": [
    "### ANN with grid search\n"
   ]
  },
  {
   "cell_type": "code",
   "execution_count": null,
   "id": "437059e6",
   "metadata": {},
   "outputs": [],
   "source": [
    "from sklearn.model_selection import GridSearchCV\n",
    "from sklearn.metrics import classification_report\n",
    "from sklearn.neural_network import MLPClassifier"
   ]
  },
  {
   "cell_type": "code",
   "execution_count": null,
   "id": "5d7f8379",
   "metadata": {},
   "outputs": [],
   "source": [
    "ann_clf = MLPClassifier(learning_rate_init=0.01, max_iter=500, random_state=42, hidden_layer_sizes=(5,2))\n",
    "ann_clf.fit(train_tv, Y_train['sentiment'])\n",
    "train_score = ann_clf.score(train_tv, Y_train['sentiment'])\n",
    "test_score = ann_clf.score(test_tv, Y_test['sentiment'])\n",
    "\n",
    "print(\"Training accuracy: {:.3f}\".format(train_score))\n",
    "print(\"Test accuracy:{:.3f}\".format(test_score))\n",
    "print(\"Confusion Matrix for Random Forest Classifier:\")\n",
    "print(confusion_matrix(Y_test['sentiment'],Y_pred))\n",
    "\n",
    "Y_pred = ann_clf.predict(test_tv)\n",
    "#Clasification Report\n",
    "print(\"Classification Report:\",classification_report(Y_test['sentiment'],Y_pred))"
   ]
  },
  {
   "cell_type": "markdown",
   "id": "106500d3",
   "metadata": {},
   "source": [
    "## Due to our word dataset is huge, using Grid search is not efficient so I comment the grid search step\n"
   ]
  },
  {
   "cell_type": "markdown",
   "id": "576d5bcf",
   "metadata": {},
   "source": [
    "#### setting the parameter grid\n",
    "params = { 'learning_rate_init':[ 0.01, 0.001],\n",
    "            'max_iter':[500,1000] }\n",
    "\n",
    "#### perform hyperparameter tuning\n",
    "clf = GridSearchCV( MLPClassifier(random_state=42), params, cv=5, scoring= 'accuracy' )\n",
    "clf.fit(train_tv,Y_train['sentiment'])\n",
    "\n",
    "#### view accuracy scores for all the models\n",
    "means = clf.cv_results_['mean_test_score']\n",
    "std = clf.cv_results_['std_test_score']\n",
    "for mean, std, params in zip(means, std, clf.cv_results_['params']):\n",
    "    print('%0.5f (+/-%0.05f) for %r' %(mean, std*2, params))"
   ]
  },
  {
   "cell_type": "code",
   "execution_count": null,
   "id": "9feb3476",
   "metadata": {},
   "outputs": [],
   "source": [
    "from sklearn.pipeline import Pipeline\n",
    "from sklearn.linear_model import LogisticRegression\n",
    "from sklearn.neighbors import KNeighborsClassifier\n",
    "from sklearn.svm import SVC\n",
    "from sklearn.gaussian_process.kernels import RBF\n",
    "from sklearn.tree import DecisionTreeClassifier\n",
    "from sklearn.ensemble import RandomForestClassifier, BaggingClassifier, AdaBoostClassifier, VotingClassifier\n",
    "from xgboost import XGBClassifier\n",
    "from sklearn.naive_bayes import GaussianNB\n",
    "from sklearn.metrics import accuracy_score, log_loss"
   ]
  },
  {
   "cell_type": "markdown",
   "id": "f8ee2405",
   "metadata": {},
   "source": [
    "### Voting model"
   ]
  },
  {
   "cell_type": "code",
   "execution_count": null,
   "id": "79e39b2b",
   "metadata": {},
   "outputs": [],
   "source": [
    "#Names of the various classification approaches for easy presentation of the results\n",
    "names = [\"Logististic Regression\", \"Nearest Neighbors\", \n",
    "          \"Decision Tree\",  \"XGBoost\",\"Majority Vote\",\n",
    "         \"AdaBoost\"]\n",
    "\n",
    "scores = [] #list variable to hold classification scores (predictive accuracy scores)\n",
    "\n",
    "#Prepare models for VotingClassifier \n",
    "#creeate instances (i.e., objects) of the various classifiers\n",
    "lr =LogisticRegression()\n",
    "knn = KNeighborsClassifier(8)\n",
    "linear_svc = SVC(kernel=\"linear\", C=0.01, probability=True)\n",
    "gamma_svc = SVC(gamma=2, C=1, probability=True)\n",
    "dtc = DecisionTreeClassifier(max_depth=10)\n",
    "gnbs = GaussianNB()\n",
    "rnd_clf1 = RandomForestClassifier()\n",
    "ann_clf1= MLPClassifier(learning_rate_init=0.01, max_iter=500, hidden_layer_sizes=(5,2))\n",
    "xgb_clf=XGBClassifier(early_stopping_rounds=2000)\n",
    "\n",
    "#specify the VotingClassifier() - create instance\n",
    "\n",
    "mv_clf = VotingClassifier(estimators=[ ('logistic', lr), \n",
    "                                      ('XGbost', xgb_clf),\n",
    "                                      ('ANN', ann_clf1), \n",
    "                                      ('Random Forest', rnd_clf1)\n",
    "                                     ]\n",
    "                          , voting='soft')\n",
    "\n",
    "classifiers = [\n",
    "    lr,\n",
    "    knn,\n",
    "    dtc,\n",
    "    xgb_clf,\n",
    "    mv_clf,\n",
    "    AdaBoostClassifier()\n",
    "    ]\n",
    "\n",
    "#run classification models using Pipeline\n",
    "for classifier in classifiers:\n",
    "    print(classifier)\n",
    "    pipeline = Pipeline(steps=[\n",
    "                      ('classifier', classifier)])\n",
    "    pipeline.fit(train_tv, Y_train['sentiment'])   \n",
    "    \n",
    "    scores.append(pipeline.score(test_tv, Y_test['sentiment']))\n",
    "    print(\"model score: %.3f\" % pipeline.score(test_tv, Y_test['sentiment']))\n",
    "    print(\"\\n -----------------------------------------------------------------------------------\")\n",
    "    \n",
    "#end of pipeline\n",
    "\n",
    "#Create a dataframe for prediction scores\n",
    "scores_df = pd.DataFrame(zip(names,scores), columns=['Classifier', 'Accuracy Score'])"
   ]
  },
  {
   "cell_type": "code",
   "execution_count": null,
   "id": "abee6213",
   "metadata": {},
   "outputs": [],
   "source": [
    "scores_df"
   ]
  },
  {
   "cell_type": "markdown",
   "id": "79b448a7",
   "metadata": {},
   "source": [
    "## Prediction "
   ]
  },
  {
   "cell_type": "markdown",
   "id": "09af033a",
   "metadata": {},
   "source": [
    "#### Preprocess the new data\n",
    "\n",
    "The best model is the voting classifier. We have 8000 unused data to make prediction. 4000 sample have actual positive response, and 4000 sample have actual negative response. "
   ]
  },
  {
   "cell_type": "markdown",
   "id": "b00190d2",
   "metadata": {},
   "source": [
    "#### Preprocess data"
   ]
  },
  {
   "cell_type": "code",
   "execution_count": null,
   "id": "2fcd7ad8",
   "metadata": {},
   "outputs": [],
   "source": [
    "df_new = sample_data(44000)\n",
    "df_new=pd.concat([df_new.iloc[40000:44000],df_new.iloc[84000:88000]])\n",
    "\n",
    "#NLP pipeline\n",
    "#Tokenize\n",
    "from gensim.utils import simple_preprocess \n",
    "df_new['prep'] = df_new['text'].apply(simple_preprocess)\n",
    "print(\"Finish Tokenize\")\n",
    "\n",
    "#Stemming words and case lower\n",
    "from gensim.parsing.porter import PorterStemmer\n",
    "def stem(ws):\n",
    "  return [PorterStemmer().stem(w) for w in ws]\n",
    "\n",
    "df_new['prep'] = df_new['prep'].apply(stem)\n",
    "print(\"Finish Stem\")\n",
    "\n",
    "#join word list to sentence\n",
    "def toSentence(x):\n",
    "  return \" \".join(x)\n",
    "\n",
    "df_new['clean'] = df_new['prep'].apply(toSentence)"
   ]
  },
  {
   "cell_type": "markdown",
   "id": "8dca4e18",
   "metadata": {},
   "source": [
    "### Predicting result"
   ]
  },
  {
   "cell_type": "markdown",
   "id": "50c5afe0",
   "metadata": {},
   "source": [
    "#### Confusion Matrix"
   ]
  },
  {
   "cell_type": "code",
   "execution_count": null,
   "id": "3f81d922",
   "metadata": {
    "scrolled": true
   },
   "outputs": [],
   "source": [
    "valid_tv = tfidf.transform(df_new['clean'])\n",
    "\n",
    "Y_valid_pred = mv_clf.predict(valid_tv)\n",
    "validation_score = mv_clf.score(valid_tv, df_new['sentiment'])\n",
    "print(\"Validation accureacy: {:.3f}\".format(validation_score))\n",
    "print(\"Confusion Matrix for Random Forest Classifier:\")\n",
    "print(confusion_matrix(df_new['sentiment'],Y_valid_pred))\n"
   ]
  },
  {
   "cell_type": "markdown",
   "id": "d3dd98b9",
   "metadata": {},
   "source": [
    "#### Clasification Report"
   ]
  },
  {
   "cell_type": "code",
   "execution_count": null,
   "id": "2afc5acf",
   "metadata": {},
   "outputs": [],
   "source": [
    "print(\"Classification Report:\",classification_report(df_new['sentiment'],Y_valid_pred))"
   ]
  },
  {
   "cell_type": "code",
   "execution_count": null,
   "id": "f1885101",
   "metadata": {},
   "outputs": [],
   "source": [
    "from sklearn.metrics import roc_auc_score\n",
    "from sklearn.metrics import roc_curve\n",
    "import matplotlib.pyplot as plt \n",
    "\n",
    "logit_roc_auc = roc_auc_score(df_new['sentiment'], mv_clf.predict(valid_tv))\n",
    "fpr, tpr, thresholds = roc_curve(df_new['sentiment'], mv_clf.predict_proba(valid_tv)[:,1])\n",
    "plt.figure()\n",
    "plt.plot(fpr, tpr, label='(area = %0.2f)' % logit_roc_auc)\n",
    "plt.plot([0, 1], [0, 1],'r--')\n",
    "plt.xlim([0.0, 1.0])\n",
    "plt.ylim([0.0, 1.05])\n",
    "plt.xlabel('False Positive Rate')\n",
    "plt.ylabel('True Positive Rate')\n",
    "plt.title('Receiver operating characteristic')\n",
    "plt.legend(loc=\"lower right\")\n",
    "plt.show()"
   ]
  }
 ],
 "metadata": {
  "kernelspec": {
   "display_name": "Python 3 (ipykernel)",
   "language": "python",
   "name": "python3"
  },
  "language_info": {
   "codemirror_mode": {
    "name": "ipython",
    "version": 3
   },
   "file_extension": ".py",
   "mimetype": "text/x-python",
   "name": "python",
   "nbconvert_exporter": "python",
   "pygments_lexer": "ipython3",
   "version": "3.9.7"
  }
 },
 "nbformat": 4,
 "nbformat_minor": 5
}
